{
  "nbformat": 4,
  "nbformat_minor": 0,
  "metadata": {
    "colab": {
      "name": "chatbotmodelcomplete1.ipynb",
      "version": "0.3.2",
      "provenance": [],
      "collapsed_sections": [],
      "include_colab_link": true
    },
    "kernelspec": {
      "name": "python3",
      "display_name": "Python 3"
    }
  },
  "cells": [
    {
      "cell_type": "markdown",
      "metadata": {
        "id": "view-in-github",
        "colab_type": "text"
      },
      "source": [
        "<a href=\"https://colab.research.google.com/github/Gauravhulmukh/Chatbot-Development-for-Regional-language-using-Artificial-Intelligence/blob/master/chatbotmodelcomplete1.ipynb\" target=\"_parent\"><img src=\"https://colab.research.google.com/assets/colab-badge.svg\" alt=\"Open In Colab\"/></a>"
      ]
    },
    {
      "metadata": {
        "id": "nLvWwZ-LlsH5",
        "colab_type": "code",
        "colab": {
          "base_uri": "https://localhost:8080/",
          "height": 207
        },
        "outputId": "a1fd0fc0-2048-4443-ec3f-ec91dfc3e56a"
      },
      "cell_type": "code",
      "source": [
        "# things we need for NLP\n",
        "import nltk\n",
        "from nltk.stem.lancaster import LancasterStemmer\n",
        "stemmer = LancasterStemmer()\n",
        "nltk.download('punkt')#findout why we need punkt for word tokenziation? \n",
        "#Stemmer=just simple the word:helper=help\n",
        "#it has two type porter and Lancaster\n",
        "\n",
        "\n",
        "# things we need for Tensorflow\n",
        "import numpy as np\n",
        "!pip install tflearn\n",
        "import tflearn\n",
        "import tensorflow as tf\n",
        "import random"
      ],
      "execution_count": 2,
      "outputs": [
        {
          "output_type": "stream",
          "text": [
            "[nltk_data] Downloading package punkt to /root/nltk_data...\n",
            "[nltk_data]   Unzipping tokenizers/punkt.zip.\n",
            "Requirement already satisfied: tflearn in /usr/local/lib/python3.6/dist-packages (0.3.2)\n",
            "Requirement already satisfied: numpy in /usr/local/lib/python3.6/dist-packages (from tflearn) (1.14.6)\n",
            "Requirement already satisfied: six in /usr/local/lib/python3.6/dist-packages (from tflearn) (1.11.0)\n",
            "Requirement already satisfied: Pillow in /usr/local/lib/python3.6/dist-packages (from tflearn) (4.0.0)\n",
            "Requirement already satisfied: olefile in /usr/local/lib/python3.6/dist-packages (from Pillow->tflearn) (0.46)\n",
            "WARNING:tensorflow:From /usr/local/lib/python3.6/dist-packages/tensorflow/python/framework/op_def_library.py:263: colocate_with (from tensorflow.python.framework.ops) is deprecated and will be removed in a future version.\n",
            "Instructions for updating:\n",
            "Colocations handled automatically by placer.\n"
          ],
          "name": "stdout"
        }
      ]
    },
    {
      "metadata": {
        "id": "GnUlfjoJmGnk",
        "colab_type": "code",
        "outputId": "6c4b375a-3f8c-4989-a882-a4c47b834d2c",
        "colab": {
          "base_uri": "https://localhost:8080/",
          "height": 122
        }
      },
      "cell_type": "code",
      "source": [
        "from google.colab import drive\n",
        "drive.mount('/content/drive')\n",
        "\n",
        "# import our chat-bot intents file\n",
        "import json\n",
        "with open('/content/drive/My Drive/intents.json') as json_data:\n",
        "    intents = json.load(json_data)"
      ],
      "execution_count": 3,
      "outputs": [
        {
          "output_type": "stream",
          "text": [
            "Go to this URL in a browser: https://accounts.google.com/o/oauth2/auth?client_id=947318989803-6bn6qk8qdgf4n4g3pfee6491hc0brc4i.apps.googleusercontent.com&redirect_uri=urn%3Aietf%3Awg%3Aoauth%3A2.0%3Aoob&scope=email%20https%3A%2F%2Fwww.googleapis.com%2Fauth%2Fdocs.test%20https%3A%2F%2Fwww.googleapis.com%2Fauth%2Fdrive%20https%3A%2F%2Fwww.googleapis.com%2Fauth%2Fdrive.photos.readonly%20https%3A%2F%2Fwww.googleapis.com%2Fauth%2Fpeopleapi.readonly&response_type=code\n",
            "\n",
            "Enter your authorization code:\n",
            "··········\n",
            "Mounted at /content/drive\n"
          ],
          "name": "stdout"
        }
      ]
    },
    {
      "metadata": {
        "id": "cnrefI2imrI1",
        "colab_type": "code",
        "outputId": "1e76d9cb-f2fb-4687-e2ec-8fc3c517c22e",
        "colab": {
          "base_uri": "https://localhost:8080/",
          "height": 88
        }
      },
      "cell_type": "code",
      "source": [
        "#simply creating array\n",
        "words = []\n",
        "classes = []\n",
        "documents = []\n",
        "ignore_words = ['?']#it will ignore  question MARK from pattern\n",
        "\n",
        "#create loop intents>patterns \n",
        "for intent in intents['intents']:\n",
        "    for pattern in intent['patterns']:\n",
        "        \n",
        "        w = nltk.word_tokenize(pattern) #seperate words:hi there=hi,there\n",
        "        words.extend(w)\n",
        "        #print(words) #it will add seperated words from each pattern into words array \n",
        "        documents.append((w, intent['tag']))\n",
        "        #print(documents) #it is set of words(tokenize_pattern) & tag\n",
        "        \n",
        "        if intent['tag'] not in classes:\n",
        "          #print(classes)\n",
        "          classes.append(intent['tag'])\n",
        "#print(classes)\n",
        "# stem and lower each word and remove duplicates\n",
        "words = [stemmer.stem(w.lower()) for w in words if w not in ignore_words]\n",
        "#print(words)\n",
        "words = sorted(list(set(words)))\n",
        "#print(words)\n",
        "classes = sorted(list(set(classes)))\n",
        "#create classes array which contain all the tags in alphabhetical order\n",
        "\n",
        "print (len(documents), documents)\n",
        "print (len(classes), \"classes\", classes)\n",
        "print (len(words), \"unique stemmed words\", words)\n",
        "\n"
      ],
      "execution_count": 4,
      "outputs": [
        {
          "output_type": "stream",
          "text": [
            "45 [(['Hi', 'there'], 'greeting'), (['How', 'are', 'you'], 'greeting'), (['Is', 'anyone', 'there', '?'], 'greeting'), (['Hello'], 'greeting'), (['Good', 'day'], 'greeting'), (['Bye'], 'goodbye'), (['See', 'you', 'later'], 'goodbye'), (['Goodbye'], 'goodbye'), (['Nice', 'chatting', 'to', 'you', ',', 'bye'], 'goodbye'), (['Till', 'next', 'time'], 'goodbye'), (['Thanks'], 'thanks'), (['Thank', 'you'], 'thanks'), (['That', \"'s\", 'helpful'], 'thanks'), (['Awesome', ',', 'thanks'], 'thanks'), (['Thanks', 'for', 'helping', 'me'], 'thanks'), (['How', 'you', 'could', 'help', 'me', '?'], 'options'), (['What', 'you', 'can', 'do', '?'], 'options'), (['What', 'help', 'you', 'provide', '?'], 'options'), (['How', 'you', 'can', 'be', 'helpful', '?'], 'options'), (['What', 'support', 'is', 'offered'], 'options'), (['How', 'to', 'check', 'Adverse', 'drug', 'reaction', '?'], 'adverse_drug'), (['Open', 'adverse', 'drugs', 'module'], 'adverse_drug'), (['Give', 'me', 'a', 'list', 'of', 'drugs', 'causing', 'adverse', 'behavior'], 'adverse_drug'), (['List', 'all', 'drugs', 'suitable', 'for', 'patient', 'with', 'adverse', 'reaction'], 'adverse_drug'), (['Which', 'drugs', 'dont', 'have', 'adverse', 'reaction', '?'], 'adverse_drug'), (['Open', 'blood', 'pressure', 'module'], 'blood_pressure'), (['Task', 'related', 'to', 'blood', 'pressure'], 'blood_pressure'), (['Blood', 'pressure', 'data', 'entry'], 'blood_pressure'), (['I', 'want', 'to', 'log', 'blood', 'pressure', 'results'], 'blood_pressure'), (['Blood', 'pressure', 'data', 'management'], 'blood_pressure'), (['I', 'want', 'to', 'search', 'for', 'blood', 'pressure', 'result', 'history'], 'blood_pressure_search'), (['Blood', 'pressure', 'for', 'patient'], 'blood_pressure_search'), (['Load', 'patient', 'blood', 'pressure', 'result'], 'blood_pressure_search'), (['Show', 'blood', 'pressure', 'results', 'for', 'patient'], 'blood_pressure_search'), (['Find', 'blood', 'pressure', 'results', 'by', 'ID'], 'blood_pressure_search'), (['Find', 'me', 'a', 'pharmacy'], 'pharmacy_search'), (['Find', 'pharmacy'], 'pharmacy_search'), (['List', 'of', 'pharmacies', 'nearby'], 'pharmacy_search'), (['Locate', 'pharmacy'], 'pharmacy_search'), (['Search', 'pharmacy'], 'pharmacy_search'), (['Lookup', 'for', 'hospital'], 'hospital_search'), (['Searching', 'for', 'hospital', 'to', 'transfer', 'patient'], 'hospital_search'), (['I', 'want', 'to', 'search', 'hospital', 'data'], 'hospital_search'), (['Hospital', 'lookup', 'for', 'patient'], 'hospital_search'), (['Looking', 'up', 'hospital', 'details'], 'hospital_search')]\n",
            "9 classes ['adverse_drug', 'blood_pressure', 'blood_pressure_search', 'goodbye', 'greeting', 'hospital_search', 'options', 'pharmacy_search', 'thanks']\n",
            "82 unique stemmed words [\"'s\", ',', 'a', 'advers', 'al', 'anyon', 'ar', 'awesom', 'be', 'behavy', 'blood', 'by', 'bye', 'can', 'caus', 'chat', 'check', 'could', 'dat', 'day', 'detail', 'do', 'dont', 'drug', 'entry', 'find', 'for', 'giv', 'good', 'goodby', 'hav', 'hello', 'help', 'hi', 'hist', 'hospit', 'how', 'i', 'id', 'is', 'lat', 'list', 'load', 'loc', 'log', 'look', 'lookup', 'man', 'me', 'mod', 'nearby', 'next', 'nic', 'of', 'off', 'op', 'paty', 'pharm', 'press', 'provid', 'react', 'rel', 'result', 'search', 'see', 'show', 'suit', 'support', 'task', 'thank', 'that', 'ther', 'til', 'tim', 'to', 'transf', 'up', 'want', 'what', 'which', 'with', 'you']\n"
          ],
          "name": "stdout"
        }
      ]
    },
    {
      "metadata": {
        "id": "vvDwVDfZnwf1",
        "colab_type": "code",
        "colab": {}
      },
      "cell_type": "code",
      "source": [
        "#creating arrays for training data\n",
        "training = []\n",
        "output = []\n",
        "# create an empty array for our output\n",
        "output_empty = [0] * len(classes)\n",
        "for doc in documents:\n",
        "    bag = []\n",
        "    pattern_words = doc[0]\n",
        "   # print(len(pattern_words),pattern_words)\n",
        "    pattern_words = [stemmer.stem(word.lower()) for word in pattern_words]\n",
        "    \n",
        "    \n",
        "    for w in words:\n",
        "      #print(w,pattern_words)\n",
        "      bag.append(1) if w in pattern_words else bag.append(0)\n",
        "      #print(len(bag),bag) #it is comparing alphabhetical words array & non-alphabhetical stem words of document\n",
        "  #match 1 else 0\n",
        "        \n",
        "    # output is a '0' for each tag and '1' for current tag\n",
        "    output_row = list(output_empty)\n",
        "    #print(output_row)\n",
        "    output_row[classes.index(doc[1])] = 1\n",
        "    #print(len(output_row),output_row) #it is comparing classes array & doc[1] array\n",
        "\n",
        "    #adding bag with 1&0 and\n",
        "    training.append([bag, output_row])\n",
        "    #print(len(bag))\n",
        "    #print(bag)\n",
        "    #print(len(output_row))\n",
        "    #print(output_row)\n",
        "    #print(len(training),training)\n",
        "\n",
        "    \n",
        "# shuffle our features and turn into np.array\n",
        "random.shuffle(training)\n",
        "training = np.array(training)#findout meaning of it--------------------------\n",
        "#print(training) #it is printing 1 on 39th and 78 for matching hi,ther first pattern of pattern dataset \n",
        "\n",
        "\n",
        "# create train and test lists\n",
        "train_x = list(training[:,0])#it contain bag array of 0&1 #contain 88 unique stemmed words\n",
        "train_y = list(training[:,1])#it contain  classes array of 9 in 0&1 #contain 9 classes\n",
        "\n",
        "#print(len(train_x),train_x)\n",
        "#print(train_y)\n",
        "#refer this https://sourcedexter.com/tensorflow-text-classification-python/\n",
        "#print(training)\n"
      ],
      "execution_count": 0,
      "outputs": []
    },
    {
      "metadata": {
        "id": "sZlHxSh1n8R1",
        "colab_type": "code",
        "outputId": "a32ea7e6-286f-4710-85b0-5784c225ffb4",
        "colab": {
          "base_uri": "https://localhost:8080/",
          "height": 119
        }
      },
      "cell_type": "code",
      "source": [
        "#Clears the default graph stack and resets the global default graph.\n",
        "tf.reset_default_graph()\n",
        "# Build neural network\n",
        "net = tflearn.input_data(shape=[None, len(train_x[0])])\n",
        "#print(net) Tensor(\"InputData/X:0\", shape=(?, 88), dtype=float32)\n",
        "\n",
        "net = tflearn.fully_connected(net, 8)\n",
        "#print(net) Tensor(\"FullyConnected/BiasAdd:0\", shape=(?, 8), dtype=float32)\n",
        "\n",
        "net = tflearn.fully_connected(net, 8)\n",
        "#print(net)  Tensor(\"FullyConnected_1/BiasAdd:0\", shape=(?, 8), dtype=float32)\n",
        "\n",
        "net = tflearn.fully_connected(net, len(train_y[0]), activation='softmax')\n",
        "#print(net)  Tensor(\"FullyConnected_2/Softmax:0\", shape=(?, 9), dtype=float32)\n",
        "\n",
        "net = tflearn.regression(net)\n",
        "#print(net)  #Tensor(\"FullyConnected_2/Softmax:0\", shape=(?, 9), dtype=float32)\n",
        "\n",
        "\n",
        "# Define model and setup tensorboard\n",
        "model = tflearn.DNN(net, tensorboard_dir='tflearn_chatbot_redsamurai_medical_logs')\n",
        "# Start training (apply gradient descent algorithm)\n",
        "model.fit(train_x, train_y, n_epoch=1000, batch_size=8, show_metric=True)\n",
        "model.save('chatbot_redsamurai_medical_model.tflearn')\n",
        "\n",
        "#print(model)\n",
        "#model.load('chatbot_invoicing_model.tflearn')\n"
      ],
      "execution_count": 6,
      "outputs": [
        {
          "output_type": "stream",
          "text": [
            "Training Step: 5999  | total loss: \u001b[1m\u001b[32m0.92189\u001b[0m\u001b[0m | time: 0.024s\n",
            "| Adam | epoch: 1000 | loss: 0.92189 - acc: 0.8836 -- iter: 40/45\n",
            "Training Step: 6000  | total loss: \u001b[1m\u001b[32m0.83399\u001b[0m\u001b[0m | time: 0.029s\n",
            "| Adam | epoch: 1000 | loss: 0.83399 - acc: 0.9057 -- iter: 45/45\n",
            "--\n",
            "INFO:tensorflow:/content/chatbot_redsamurai_medical_model.tflearn is not in all_model_checkpoint_paths. Manually adding it.\n"
          ],
          "name": "stdout"
        }
      ]
    },
    {
      "metadata": {
        "id": "i8Jm3h1_ol4a",
        "colab_type": "code",
        "colab": {}
      },
      "cell_type": "code",
      "source": [
        "#model.load('chatbot_invoicing_model.tflearn')\n",
        "#print(model_path)\n",
        "\n",
        "def clean_up_sentence(sentence):\n",
        "    # tokenize the pattern\n",
        "    sentence_words = nltk.word_tokenize(sentence)\n",
        "    #print(sentence_words) # stem each word\n",
        "    sentence_words = [stemmer.stem(word.lower()) for word in sentence_words]\n",
        "    return sentence_words\n",
        "    \n",
        "# return bag of words array: 0 or 1 for each word in the bag that exists in the sentence\n",
        "def bow(sentence, words, show_details=True):\n",
        "    # tokenize the pattern\n",
        "    \n",
        "    sentence_words = clean_up_sentence(sentence)\n",
        "    print(sentence_words)\n",
        "    # bag of words\n",
        "    bag = [0]*len(words)\n",
        "    for s in sentence_words:\n",
        "        for i,w in enumerate(words):\n",
        "            if w == s: \n",
        "                bag[i] = 1\n",
        "                if show_details:\n",
        "                    print (\"found in bag: %s\" % w)\n",
        "\n",
        "    return(np.array(bag))\n",
        "    "
      ],
      "execution_count": 0,
      "outputs": []
    },
    {
      "metadata": {
        "id": "vpZWZBT1oyHy",
        "colab_type": "code",
        "outputId": "881aef6b-7c48-42df-b7ce-b7eac5118c80",
        "colab": {
          "base_uri": "https://localhost:8080/",
          "height": 153
        }
      },
      "cell_type": "code",
      "source": [
        "p = bow(\"Helloer keted\", words)#p = bow(\"I'm looking for pharmacy\", words)\n",
        "print (len(p),p)\n",
        "#p = bow(\"thanks\", words)#q = bow(\"'s hi gaurav\", words)#print(words)#print (len(q),q)\n",
        "print (classes)\n",
        "print(model.predict([p]))"
      ],
      "execution_count": 38,
      "outputs": [
        {
          "output_type": "stream",
          "text": [
            "['hello', 'ket']\n",
            "found in bag: hello\n",
            "82 [0 0 0 0 0 0 0 0 0 0 0 0 0 0 0 0 0 0 0 0 0 0 0 0 0 0 0 0 0 0 0 1 0 0 0 0 0\n",
            " 0 0 0 0 0 0 0 0 0 0 0 0 0 0 0 0 0 0 0 0 0 0 0 0 0 0 0 0 0 0 0 0 0 0 0 0 0\n",
            " 0 0 0 0 0 0 0 0]\n",
            "['adverse_drug', 'blood_pressure', 'blood_pressure_search', 'goodbye', 'greeting', 'hospital_search', 'options', 'pharmacy_search', 'thanks']\n",
            "[[1.0512230e-04 2.3745429e-02 9.2081522e-05 2.8300572e-03 9.2329246e-01\n",
            "  1.8170330e-04 1.3831171e-02 7.1695903e-03 2.8752375e-02]]\n"
          ],
          "name": "stdout"
        }
      ]
    },
    {
      "metadata": {
        "id": "Xk4ut-J2pKfr",
        "colab_type": "code",
        "outputId": "31051c45-62b4-41b0-af89-237ad2b56ac4",
        "colab": {
          "base_uri": "https://localhost:8080/",
          "height": 54
        }
      },
      "cell_type": "code",
      "source": [
        "print(model.predict([p]))"
      ],
      "execution_count": 0,
      "outputs": [
        {
          "output_type": "stream",
          "text": [
            "[[7.9038600e-04 1.6175923e-03 8.0226488e-02 8.2394434e-03 4.9419859e-03\n",
            "  3.6656728e-01 7.7968165e-05 4.9243414e-01 4.5104727e-02]]\n"
          ],
          "name": "stdout"
        }
      ]
    },
    {
      "metadata": {
        "id": "Z5hYrC4apQhT",
        "colab_type": "code",
        "cellView": "both",
        "colab": {}
      },
      "cell_type": "code",
      "source": [
        "# save all of our data structures\n",
        "import pickle\n",
        "pickle.dump( {'words':words, 'classes':classes, 'train_x':train_x, 'train_y':train_y}, open( \"chatbot_redsamurai_medical_training_data\", \"wb\" ) )\n",
        "#'wb' means 'write binary'\n",
        "#data = pickle.load( open( \"chatbot_redsamurai_medical_training_data\", \"rb\" ) )\n",
        "#print(data)"
      ],
      "execution_count": 0,
      "outputs": []
    },
    {
      "metadata": {
        "id": "lqQNOWH03uYu",
        "colab_type": "code",
        "colab": {}
      },
      "cell_type": "code",
      "source": [
        ""
      ],
      "execution_count": 0,
      "outputs": []
    }
  ]
}