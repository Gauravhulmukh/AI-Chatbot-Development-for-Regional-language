{
  "nbformat": 4,
  "nbformat_minor": 0,
  "metadata": {
    "colab": {
      "name": "v2modelmedical.ipynb",
      "version": "0.3.2",
      "provenance": [],
      "include_colab_link": true
    },
    "kernelspec": {
      "name": "python3",
      "display_name": "Python 3"
    }
  },
  "cells": [
    {
      "cell_type": "markdown",
      "metadata": {
        "id": "view-in-github",
        "colab_type": "text"
      },
      "source": [
        "<a href=\"https://colab.research.google.com/github/Gauravhulmukh/Chatbot-Development-for-Regional-language-using-Artificial-Intelligence/blob/master/chatbotmodelcomplete.ipynb\" target=\"_parent\"><img src=\"https://colab.research.google.com/assets/colab-badge.svg\" alt=\"Open In Colab\"/></a>"
      ]
    },
    {
      "metadata": {
        "id": "nLvWwZ-LlsH5",
        "colab_type": "code",
        "colab": {}
      },
      "cell_type": "code",
      "source": [
        "# things we need for NLP\n",
        "import nltk\n",
        "from nltk.stem.lancaster import LancasterStemmer\n",
        "stemmer = LancasterStemmer()\n",
        "nltk.download('punkt')#findout why we need punkt for word tokenziation? \n",
        "#Stemmer=just simple the word:helper=help\n",
        "#it has two type porter and Lancaster\n",
        "\n",
        "\n",
        "# things we need for Tensorflow\n",
        "import numpy as np\n",
        "!pip install tflearn\n",
        "import tflearn\n",
        "import tensorflow as tf\n",
        "import random"
      ],
      "execution_count": 0,
      "outputs": []
    },
    {
      "metadata": {
        "id": "GnUlfjoJmGnk",
        "colab_type": "code",
        "colab": {}
      },
      "cell_type": "code",
      "source": [
        "from google.colab import drive\n",
        "drive.mount('/content/drive')\n",
        "\n",
        "# import our chat-bot intents file\n",
        "import json\n",
        "with open('/content/drive/My Drive/intents.json') as json_data:\n",
        "    intents = json.load(json_data)"
      ],
      "execution_count": 0,
      "outputs": []
    },
    {
      "metadata": {
        "id": "cnrefI2imrI1",
        "colab_type": "code",
        "colab": {}
      },
      "cell_type": "code",
      "source": [
        "#simply creating array\n",
        "words = []\n",
        "classes = []\n",
        "documents = []\n",
        "ignore_words = ['?']#it will ignore  question MARK from pattern\n",
        "\n",
        "#create loop intents>patterns \n",
        "for intent in intents['intents']:\n",
        "    for pattern in intent['patterns']:\n",
        "        \n",
        "        w = nltk.word_tokenize(pattern) #seperate words:hi there=hi,there\n",
        "        words.extend(w)\n",
        "        #print(words) #it will add seperated words from each pattern into words array \n",
        "        documents.append((w, intent['tag']))\n",
        "        #print(documents) #it is set of words(tokenize_pattern) & tag\n",
        "        \n",
        "        if intent['tag'] not in classes:\n",
        "            classes.append(intent['tag'])\n",
        "\n",
        "# stem and lower each word and remove duplicates\n",
        "words = [stemmer.stem(w.lower()) for w in words if w not in ignore_words]\n",
        "words = sorted(list(set(words)))\n",
        "\n",
        "classes = sorted(list(set(classes)))\n",
        "#create classes array which contain all the tags in alphabhetical order\n",
        "\n",
        "print (len(documents), documents)\n",
        "print (len(classes), \"classes\", classes)\n",
        "print (len(words), \"unique stemmed words\", words)\n",
        "\n"
      ],
      "execution_count": 0,
      "outputs": []
    },
    {
      "metadata": {
        "id": "vvDwVDfZnwf1",
        "colab_type": "code",
        "colab": {}
      },
      "cell_type": "code",
      "source": [
        "#creating arrays for training data\n",
        "training = []\n",
        "output = []\n",
        "# create an empty array for our output\n",
        "output_empty = [0] * len(classes)\n",
        "for doc in documents:\n",
        "    bag = []\n",
        "    pattern_words = doc[0]\n",
        "    pattern_words = [stemmer.stem(word.lower()) for word in pattern_words]\n",
        "    \n",
        "    \n",
        "    for w in words:\n",
        "      #print(w,pattern_words)\n",
        "        bag.append(1) if w in pattern_words else bag.append(0)\n",
        "        #print(len(bag),bag) #it is comparing alphabhetical words array & non-alphabhetical stem words of document\n",
        "  #match 1 else 0\n",
        "        \n",
        "    # output is a '0' for each tag and '1' for current tag\n",
        "    output_row = list(output_empty)\n",
        "    #print(output_row)\n",
        "    output_row[classes.index(doc[1])] = 1\n",
        "    #print(len(output_row),output_row) #it is comparing classes array & doc[1] array\n",
        "\n",
        "    #adding bag with 1&0 and\n",
        "    training.append([bag, output_row])\n",
        "    #print(len(bag),len(output_row,bag, output_row))\n",
        "    #print(training)\n",
        "\n",
        "    \n",
        "# shuffle our features and turn into np.array\n",
        "random.shuffle(training)\n",
        "training = np.array(training)#findout meaning of it--------------------------\n",
        "#print(training) #it is printing 1 on 39th and 78 for matching hi,ther first pattern of pattern dataset \n",
        "\n",
        "\n",
        "# create train and test lists\n",
        "train_x = list(training[:,0])#it contain bag array of 0&1 #contain 88 unique stemmed words\n",
        "train_y = list(training[:,1])#it contain  classes array of 9 in 0&1 #contain 9 classes\n",
        "\n",
        "#print(len(train_x),train_x)\n",
        "#print(train_y)\n",
        "# refer this https://sourcedexter.com/tensorflow-text-classification-python/\n",
        "#print(training)\n"
      ],
      "execution_count": 0,
      "outputs": []
    },
    {
      "metadata": {
        "id": "sZlHxSh1n8R1",
        "colab_type": "code",
        "outputId": "0b6ac35f-957e-4734-c325-39d482d3b6cc",
        "colab": {
          "base_uri": "https://localhost:8080/",
          "height": 130
        }
      },
      "cell_type": "code",
      "source": [
        "#Clears the default graph stack and resets the global default graph.\n",
        "tf.reset_default_graph()\n",
        "# Build neural network\n",
        "net = tflearn.input_data(shape=[None, len(train_x[0])])\n",
        "#print(net) Tensor(\"InputData/X:0\", shape=(?, 88), dtype=float32)\n",
        "\n",
        "net = tflearn.fully_connected(net, 8)\n",
        "#print(net) Tensor(\"FullyConnected/BiasAdd:0\", shape=(?, 8), dtype=float32)\n",
        "\n",
        "net = tflearn.fully_connected(net, 8)\n",
        "#print(net)  Tensor(\"FullyConnected_1/BiasAdd:0\", shape=(?, 8), dtype=float32)\n",
        "\n",
        "net = tflearn.fully_connected(net, len(train_y[0]), activation='softmax')\n",
        "#print(net)  Tensor(\"FullyConnected_2/Softmax:0\", shape=(?, 9), dtype=float32)\n",
        "\n",
        "net = tflearn.regression(net)\n",
        "#print(net)  #Tensor(\"FullyConnected_2/Softmax:0\", shape=(?, 9), dtype=float32)\n",
        "\n",
        "\n",
        "# Define model and setup tensorboard\n",
        "model = tflearn.DNN(net, tensorboard_dir='tflearn_chatbot_redsamurai_medical_logs')\n",
        "# Start training (apply gradient descent algorithm)\n",
        "model.fit(train_x, train_y, n_epoch=1000, batch_size=8, show_metric=True)\n",
        "model.save('chatbot_redsamurai_medical_model.tflearn')\n",
        "\n",
        "#print(model)\n",
        "#model.load('chatbot_invoicing_model.tflearn')\n"
      ],
      "execution_count": 0,
      "outputs": [
        {
          "output_type": "stream",
          "text": [
            "Training Step: 5999  | total loss: \u001b[1m\u001b[32m0.16458\u001b[0m\u001b[0m | time: 0.018s\n",
            "| Adam | epoch: 1000 | loss: 0.16458 - acc: 0.9921 -- iter: 40/45\n",
            "Training Step: 6000  | total loss: \u001b[1m\u001b[32m0.15619\u001b[0m\u001b[0m | time: 0.022s\n",
            "| Adam | epoch: 1000 | loss: 0.15619 - acc: 0.9929 -- iter: 45/45\n",
            "--\n",
            "INFO:tensorflow:/content/chatbot_redsamurai_medical_model.tflearn is not in all_model_checkpoint_paths. Manually adding it.\n"
          ],
          "name": "stdout"
        }
      ]
    },
    {
      "metadata": {
        "id": "i8Jm3h1_ol4a",
        "colab_type": "code",
        "colab": {}
      },
      "cell_type": "code",
      "source": [
        "#model.load('chatbot_invoicing_model.tflearn')\n",
        "#print(model_path)\n",
        "\n",
        "def clean_up_sentence(sentence):\n",
        "    # tokenize the pattern\n",
        "    sentence_words = nltk.word_tokenize(sentence)\n",
        "    # stem each word\n",
        "    sentence_words = [stemmer.stem(word.lower()) for word in sentence_words]\n",
        "    return sentence_words\n",
        "\n",
        "# return bag of words array: 0 or 1 for each word in the bag that exists in the sentence\n",
        "def bow(sentence, words, show_details=False):\n",
        "    # tokenize the pattern\n",
        "    sentence_words = clean_up_sentence(sentence)\n",
        "    # bag of words\n",
        "    bag = [0]*len(words)  \n",
        "    for s in sentence_words:\n",
        "        for i,w in enumerate(words):\n",
        "            if w == s: \n",
        "                bag[i] = 1\n",
        "                if show_details:\n",
        "                    print (\"found in bag: %s\" % w)\n",
        "\n",
        "    return(np.array(bag))"
      ],
      "execution_count": 0,
      "outputs": []
    },
    {
      "metadata": {
        "id": "vpZWZBT1oyHy",
        "colab_type": "code",
        "outputId": "3cb4d061-4103-4d8b-e375-900be04f1c77",
        "colab": {
          "base_uri": "https://localhost:8080/",
          "height": 109
        }
      },
      "cell_type": "code",
      "source": [
        "p = bow(\"I'm looking for pharmacy\", words)\n",
        "print (len(p),p)\n",
        "#p = bow(\"thanks\", words)\n",
        "#q = bow(\"'s hi gaurav\", words)\n",
        "#print(words)\n",
        "#print (len(q),q)\n",
        "\n",
        "print (classes)"
      ],
      "execution_count": 0,
      "outputs": [
        {
          "output_type": "stream",
          "text": [
            "[0 0 0 0 0 0 0 0 0 0 0 0 0 0 0 0 0 0 0 0 0 0 0 0 0 0 1 0 0 0 0 0 0 0 0 0 0\n",
            " 1 0 0 0 0 0 0 0 1 0 0 0 0 0 0 0 0 0 0 0 1 0 0 0 0 0 0 0 0 0 0 0 0 0 0 0 0\n",
            " 0 0 0 0 0 0 0 0]\n",
            "['adverse_drug', 'blood_pressure', 'blood_pressure_search', 'goodbye', 'greeting', 'hospital_search', 'options', 'pharmacy_search', 'thanks']\n"
          ],
          "name": "stdout"
        }
      ]
    },
    {
      "metadata": {
        "id": "Xk4ut-J2pKfr",
        "colab_type": "code",
        "outputId": "a91cfff2-ebed-4c16-8cce-6c095ec30f46",
        "colab": {
          "base_uri": "https://localhost:8080/",
          "height": 53
        }
      },
      "cell_type": "code",
      "source": [
        "print(model.predict([p]))"
      ],
      "execution_count": 0,
      "outputs": [
        {
          "output_type": "stream",
          "text": [
            "[[1.3359516e-02 7.2231139e-03 1.3467361e-01 1.4167568e-02 9.1557791e-03\n",
            "  2.9979897e-01 1.0897052e-05 5.2159601e-01 1.4485136e-05]]\n"
          ],
          "name": "stdout"
        }
      ]
    },
    {
      "metadata": {
        "id": "Z5hYrC4apQhT",
        "colab_type": "code",
        "colab": {}
      },
      "cell_type": "code",
      "source": [
        "# save all of our data structures\n",
        "import pickle\n",
        "pickle.dump( {'words':words, 'classes':classes, 'train_x':train_x, 'train_y':train_y}, open( \"chatbot_redsamurai_medical_training_data\", \"wb\" ) )"
      ],
      "execution_count": 0,
      "outputs": []
    }
  ]
}